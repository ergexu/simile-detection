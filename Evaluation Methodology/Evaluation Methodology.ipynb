{
 "cells": [
  {
   "cell_type": "code",
   "execution_count": 8,
   "id": "a8bf9c6a-572d-4c45-99f7-6f51af388b86",
   "metadata": {},
   "outputs": [
    {
     "name": "stdout",
     "output_type": "stream",
     "text": [
      "{'Tenor': {'Precision': 0.7578947368421053, 'Recall': 0.7578947368421053}, 'Vehicle': {'Precision': 0.8842105263157894, 'Recall': 0.8842105263157894}, 'Shared Property': {'Precision': 0, 'Recall': 0}, 'Simile': {'Precision': 1.0, 'Recall': 1.0}}\n"
     ]
    }
   ],
   "source": [
    "import pandas as pd\n",
    "import string\n",
    "\n",
    "# Load the files\n",
    "test_df = pd.read_csv('test_corpus.csv')\n",
    "output_df = pd.read_csv('similes_output.csv')\n",
    "annotated_df = pd.read_excel('annotated_corpus.xlsx')\n",
    "\n",
    "# Function to normalize text\n",
    "def normalize_text(text):\n",
    "    if pd.isna(text):\n",
    "        return text\n",
    "    # Lowercase the text\n",
    "    text = text.lower()\n",
    "    # Remove punctuation\n",
    "    text = text.translate(str.maketrans('', '', string.punctuation))\n",
    "    # Remove extra spaces\n",
    "    text = text.strip()\n",
    "    return text\n",
    "\n",
    "# Rename the \"sentence\" column in test_df to \"Simile\"\n",
    "test_df.rename(columns={'sentence': 'Simile'}, inplace=True)\n",
    "\n",
    "# Apply normalization to the relevant columns\n",
    "for df in [test_df, output_df, annotated_df]:\n",
    "    for column in df.columns:\n",
    "        df[column] = df[column].apply(normalize_text)\n",
    "\n",
    "# Merge the dataframes on the normalized \"Simile\" column\n",
    "merged_df = pd.merge(pd.merge(test_df, output_df, on='Simile', suffixes=('_test', '_output')), \n",
    "                     annotated_df, on='Simile', suffixes=('', '_annotated'))\n",
    "\n",
    "# Function to calculate precision and recall\n",
    "def calculate_precision_recall(merged_df, column_output, column_annotated):\n",
    "    true_positive = sum((merged_df[column_output] == merged_df[column_annotated]) & (~merged_df[column_output].isna()))\n",
    "    false_positive = sum((merged_df[column_output] != merged_df[column_annotated]) & (~merged_df[column_output].isna()))\n",
    "    false_negative = sum((merged_df[column_output] != merged_df[column_annotated]) & (~merged_df[column_annotated].isna()))\n",
    "    \n",
    "    precision = true_positive / (true_positive + false_positive) if (true_positive + false_positive) > 0 else 0\n",
    "    recall = true_positive / (true_positive + false_negative) if (true_positive + false_negative) > 0 else 0\n",
    "    \n",
    "    return precision, recall\n",
    "\n",
    "# Calculate precision and recall for each category\n",
    "tenor_precision, tenor_recall = calculate_precision_recall(merged_df, 'Tenor', 'Tenor_annotated')\n",
    "vehicle_precision, vehicle_recall = calculate_precision_recall(merged_df, 'Vehicle', 'Vehicle_annotated')\n",
    "shared_property_precision, shared_property_recall = calculate_precision_recall(merged_df, 'Shared Property', 'Shared_property')\n",
    "\n",
    "# Function to calculate precision and recall for simile\n",
    "def calculate_simile_precision_recall(merged_df):\n",
    "    true_positive = sum(~merged_df['Simile'].isna())\n",
    "    false_positive = 0  # Since we are comparing the same rows from different datasets\n",
    "    false_negative = sum(~merged_df['Simile'].isna()) - true_positive\n",
    "    \n",
    "    precision = true_positive / (true_positive + false_positive) if (true_positive + false_positive) > 0 else 0\n",
    "    recall = true_positive / (true_positive + false_negative) if (true_positive + false_negative) > 0 else 0\n",
    "    \n",
    "    return precision, recall\n",
    "\n",
    "# Calculate precision and recall for Simile\n",
    "simile_precision, simile_recall = calculate_simile_precision_recall(merged_df)\n",
    "\n",
    "# Compile results into a dictionary\n",
    "results = {\n",
    "    'Tenor': {'Precision': tenor_precision, 'Recall': tenor_recall},\n",
    "    'Vehicle': {'Precision': vehicle_precision, 'Recall': vehicle_recall},\n",
    "    'Shared Property': {'Precision': shared_property_precision, 'Recall': shared_property_recall},\n",
    "    'Simile': {'Precision': simile_precision, 'Recall': simile_recall}\n",
    "}\n",
    "\n",
    "print(results)\n"
   ]
  },
  {
   "cell_type": "code",
   "execution_count": null,
   "id": "34eefac1-98be-4b09-914f-e99676a99cc0",
   "metadata": {},
   "outputs": [],
   "source": []
  }
 ],
 "metadata": {
  "kernelspec": {
   "display_name": "Python 3 (ipykernel)",
   "language": "python",
   "name": "python3"
  },
  "language_info": {
   "codemirror_mode": {
    "name": "ipython",
    "version": 3
   },
   "file_extension": ".py",
   "mimetype": "text/x-python",
   "name": "python",
   "nbconvert_exporter": "python",
   "pygments_lexer": "ipython3",
   "version": "3.11.4"
  }
 },
 "nbformat": 4,
 "nbformat_minor": 5
}
